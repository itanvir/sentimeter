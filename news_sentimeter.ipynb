{
 "cells": [
  {
   "cell_type": "code",
   "execution_count": 1,
   "metadata": {},
   "outputs": [
    {
     "name": "stdout",
     "output_type": "stream",
     "text": [
      "0 American Farmers Were Already Hurting. Now the Coronavirus Slowdown Might Do Them In 0.0\n",
      "1 COVID-19 could put long-lasting strain on farmers 0.0\n",
      "2 Farmers vie among themselves for slice of rescue funds 0.0\n",
      "3 Keep An Eye On The Soybean Crush Spread 0.0\n",
      "4 Farmer’s Double Whammy: Tariffs And Now Coronavirus 0.0\n",
      "5 Grains: First Quarter 2020 Review 0.25\n",
      "6 New 2021 hybrids and varieties bring farmers more diversity and maximize trait choice 0.32\n",
      "7 Why ethanol woes and COVID-19 won't stop a record-breaking year for one crop 0.0\n",
      "8 Farmers could see record corn output this year, which could be a problem 0.0\n",
      "9 Agricultural Commodities Pre-April WASDE Report 0.0\n",
      "10 New York's Largest Biofuel Plant Supplies Ethanol for Sanitizer to U.S., Canadian Corporations as Novel Coronavirus Persists 0.14\n",
      "11 One industry's collapse creates uncertainty for US farmers and within the food chain 0.0\n",
      "12 Coronavirus is a very real issue for US farming, but its direct impact may vary 0.18\n",
      "13 Cass Co. now has 340 cases of coronavirus; 241 at Tyson - pharostribune.com 0.0\n",
      "14 Leading Harvest Sets Universal Standard for Agriculture Sustainability 0.0\n",
      "15 Virus Fallout Clouds Outlook for World’s Largest Crop Traders 0.0\n",
      "16 American Farmers Were Already Hurting. Now the Coronavirus Slowdown Might Do Them In 0.0\n",
      "17 New aerial image dataset to help provide farmers with actionable insights 0.14\n",
      "18 Damage to Iowa Ag Industry from Virus Will Be Huge, Economists Say 0.4\n",
      "19 Furloughed Ideas IV: Archer-Daniels-Midland, Supermarket To The World 0.0\n",
      "======Market sentiment======\n",
      "Market sentiment is negative\n"
     ]
    }
   ],
   "source": [
    "import requests\n",
    "import pandas as pd\n",
    "import numpy as np\n",
    "from textblob import TextBlob \n",
    "\n",
    "API_KEY = 'fb3a5891a786455bb898f36e92b09f24'\n",
    "\n",
    "params = {\n",
    "    'q': 'soybean corn farmers',\n",
    "    #'source': 'cnn-news',\n",
    "    'sortBy': 'top',\n",
    "    'language': 'en',\n",
    "    #'category': 'business',\n",
    "    #'country': 'us',\n",
    "}\n",
    "\n",
    "headers = {\n",
    "    'X-Api-Key': API_KEY,  # KEY in header to hide it from url\n",
    "}\n",
    "\n",
    "url = 'https://newsapi.org/v2/everything'\n",
    "\n",
    "response = requests.get(url, params=params, headers=headers)\n",
    "data = response.json()\n",
    "\n",
    "# To dataframe\n",
    "data = pd.DataFrame.from_dict(data)\n",
    "data = pd.concat([data.drop(['articles'], axis=1), data['articles'].apply(pd.Series)], axis=1)\n",
    "\n",
    "# Sentiment  \n",
    "def sentiment_calc(text):\n",
    "    try:\n",
    "        return TextBlob(text).sentiment\n",
    "    except:\n",
    "        return None\n",
    "\n",
    "sentiment_series = data['title'].apply(sentiment_calc)\n",
    "sentiment_series = sentiment_series.tolist()\n",
    "columns = ['polarity', 'subjectivity']\n",
    "sentiment = pd.DataFrame(sentiment_series, columns=columns, index=data.index)\n",
    "\n",
    "# Concat\n",
    "data = pd.concat([data, sentiment], axis=1)\n",
    "\n",
    "# Print\n",
    "for i in range(len(data)):\n",
    "    print (i, data['title'][i], np.round(data['polarity'][i], 2))\n",
    "\n",
    "# Overall market sentiment\n",
    "print (\"======Market sentiment======\")\n",
    "mean_polarity = data['polarity'].mean()\n",
    "if mean_polarity>0.5:\n",
    "    print (\"Market sentiment is positive\")\n",
    "else:\n",
    "    print (\"Market sentiment is negative\")"
   ]
  }
 ],
 "metadata": {
  "kernelspec": {
   "display_name": "Python 3",
   "language": "python",
   "name": "python3"
  },
  "language_info": {
   "codemirror_mode": {
    "name": "ipython",
    "version": 3
   },
   "file_extension": ".py",
   "mimetype": "text/x-python",
   "name": "python",
   "nbconvert_exporter": "python",
   "pygments_lexer": "ipython3",
   "version": "3.6.8"
  }
 },
 "nbformat": 4,
 "nbformat_minor": 2
}
